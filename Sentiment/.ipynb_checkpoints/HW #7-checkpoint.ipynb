{
 "cells": [
  {
   "cell_type": "code",
   "execution_count": 1,
   "metadata": {},
   "outputs": [],
   "source": [
    "#Import dependencies\n",
    "import pandas as pd\n",
    "import numpy as np\n",
    "import tweepy\n",
    "import matplotlib.pyplot as plt\n",
    "import seaborn as sns\n",
    "from datetime import datetime\n",
    "import requests\n",
    "\n",
    "# Twitter API Keys\n",
    "from config import (consumer_key,consumer_secret,access_token,access_token_secret)\n",
    "import json"
   ]
  },
  {
   "cell_type": "code",
   "execution_count": 3,
   "metadata": {},
   "outputs": [
    {
     "ename": "ModuleNotFoundError",
     "evalue": "No module named 'vaderSentiment'",
     "output_type": "error",
     "traceback": [
      "\u001b[0;31m---------------------------------------------------------------------------\u001b[0m",
      "\u001b[0;31mModuleNotFoundError\u001b[0m                       Traceback (most recent call last)",
      "\u001b[0;32m<ipython-input-3-0474326b1153>\u001b[0m in \u001b[0;36m<module>\u001b[0;34m()\u001b[0m\n\u001b[1;32m      1\u001b[0m \u001b[0;31m#Instantiate vader sentiment analyzer\u001b[0m\u001b[0;34m\u001b[0m\u001b[0;34m\u001b[0m\u001b[0m\n\u001b[0;32m----> 2\u001b[0;31m \u001b[0;32mfrom\u001b[0m \u001b[0mvaderSentiment\u001b[0m\u001b[0;34m.\u001b[0m\u001b[0mvaderSentiment\u001b[0m \u001b[0;32mimport\u001b[0m \u001b[0mSentimentIntensityAnalyzer\u001b[0m\u001b[0;34m\u001b[0m\u001b[0m\n\u001b[0m\u001b[1;32m      3\u001b[0m \u001b[0manalyzer\u001b[0m \u001b[0;34m=\u001b[0m \u001b[0mSentimentIntensityAnalyzer\u001b[0m\u001b[0;34m(\u001b[0m\u001b[0;34m)\u001b[0m\u001b[0;34m\u001b[0m\u001b[0m\n",
      "\u001b[0;31mModuleNotFoundError\u001b[0m: No module named 'vaderSentiment'"
     ]
    }
   ],
   "source": [
    "#Instantiate vader sentiment analyzer\n",
    "from vaderSentiment.vaderSentiment import SentimentIntensityAnalyzer\n",
    "analyzer = SentimentIntensityAnalyzer()"
   ]
  },
  {
   "cell_type": "code",
   "execution_count": 4,
   "metadata": {},
   "outputs": [],
   "source": [
    "# Twitter requires all requests to use OAuth for authentication.\n",
    "# creating an OAuthHandler\n",
    "auth = tweepy.OAuthHandler(consumer_key, consumer_secret)\n",
    "auth.set_access_token(access_token, access_token_secret)\n",
    "api = tweepy.API(auth, parser=tweepy.parsers.JSONParser())\n"
   ]
  },
  {
   "cell_type": "code",
   "execution_count": 5,
   "metadata": {},
   "outputs": [],
   "source": [
    "target_users = ['@BBC','@CBS','@CNN','@FoxNews','@nytimes']"
   ]
  },
  {
   "cell_type": "code",
   "execution_count": 6,
   "metadata": {},
   "outputs": [],
   "source": [
    "# variable for holiding the results\n",
    "sentiment = []"
   ]
  },
  {
   "cell_type": "code",
   "execution_count": 7,
   "metadata": {},
   "outputs": [
    {
     "ename": "NameError",
     "evalue": "name 'analyzer' is not defined",
     "output_type": "error",
     "traceback": [
      "\u001b[0;31m---------------------------------------------------------------------------\u001b[0m",
      "\u001b[0;31mNameError\u001b[0m                                 Traceback (most recent call last)",
      "\u001b[0;32m<ipython-input-7-b43e694025b2>\u001b[0m in \u001b[0;36m<module>\u001b[0;34m()\u001b[0m\n\u001b[1;32m     15\u001b[0m \u001b[0;34m\u001b[0m\u001b[0m\n\u001b[1;32m     16\u001b[0m             \u001b[0;31m# run varder analysis on each tweet text\u001b[0m\u001b[0;34m\u001b[0m\u001b[0;34m\u001b[0m\u001b[0m\n\u001b[0;32m---> 17\u001b[0;31m             \u001b[0mresults\u001b[0m \u001b[0;34m=\u001b[0m \u001b[0manalyzer\u001b[0m\u001b[0;34m.\u001b[0m\u001b[0mpolarity_scores\u001b[0m\u001b[0;34m(\u001b[0m\u001b[0mtweet\u001b[0m\u001b[0;34m[\u001b[0m\u001b[0;34m'text'\u001b[0m\u001b[0;34m]\u001b[0m\u001b[0;34m)\u001b[0m\u001b[0;34m\u001b[0m\u001b[0m\n\u001b[0m\u001b[1;32m     18\u001b[0m             \u001b[0mcompound\u001b[0m \u001b[0;34m=\u001b[0m \u001b[0mresults\u001b[0m\u001b[0;34m[\u001b[0m\u001b[0;34m'compound'\u001b[0m\u001b[0;34m]\u001b[0m\u001b[0;34m\u001b[0m\u001b[0m\n\u001b[1;32m     19\u001b[0m             \u001b[0mnegative\u001b[0m \u001b[0;34m=\u001b[0m \u001b[0mresults\u001b[0m\u001b[0;34m[\u001b[0m\u001b[0;34m'neg'\u001b[0m\u001b[0;34m]\u001b[0m\u001b[0;34m\u001b[0m\u001b[0m\n",
      "\u001b[0;31mNameError\u001b[0m: name 'analyzer' is not defined"
     ]
    }
   ],
   "source": [
    "# loop through each news provider\n",
    "for user in target_users:\n",
    "    \n",
    "    # instantiate a counter object\n",
    "    counter = 0\n",
    "    \n",
    "    # loop through 10 pages of tweets to grab 100 tweets for each news provider\n",
    "    for x in range(5):\n",
    "    \n",
    "        # Get all tweets from home feed\n",
    "        public_tweets = api.user_timeline(id=user,page = x)\n",
    "    \n",
    "        # loop through all the tweets\n",
    "        for tweet in public_tweets:\n",
    "            \n",
    "            # run varder analysis on each tweet text\n",
    "            results = analyzer.polarity_scores(tweet['text'])\n",
    "            compound = results['compound']\n",
    "            negative = results['neg']\n",
    "            neutral = results['neu']\n",
    "            positive = results['pos']\n",
    "            \n",
    "            # add results to an array\n",
    "            sentiment.append({\"text\":tweet['text'],\n",
    "                              \"sentiment_compound\":compound,\n",
    "                              \"sentiment_negative\":negative,\n",
    "                              \"sentiment_neutral\" :neutral,\n",
    "                              \"sentiment_positive\":positive,\n",
    "                              \"created_at\":tweet['created_at'],\n",
    "                              \"tweets_ago\":counter,\n",
    "                              \"name\":tweet[\"user\"]['name'],\n",
    "                              \"screen_name\":tweet[\"user\"]['screen_name']})\n",
    "            # add to counter\n",
    "            counter += 1"
   ]
  },
  {
   "cell_type": "code",
   "execution_count": null,
   "metadata": {},
   "outputs": [],
   "source": [
    "# convert the sentiment array to a dataframe\n",
    "sentiments_pd = pd.DataFrame.from_dict(sentiment)"
   ]
  },
  {
   "cell_type": "code",
   "execution_count": null,
   "metadata": {},
   "outputs": [],
   "source": [
    "# inspect the head of the dataframe\n",
    "sentiments_pd.head()"
   ]
  },
  {
   "cell_type": "code",
   "execution_count": null,
   "metadata": {},
   "outputs": [],
   "source": [
    "# arrive at the timestamp of the latest tweet\n",
    "created_at_dt = []\n",
    "\n",
    "for item in sentiments_pd['created_at']:\n",
    "    x = datetime.strptime(item,\"%a %b %d %H:%M:%S %z %Y\")\n",
    "    created_at_dt.append(x)\n",
    "    \n",
    "date = datetime.strftime(max(created_at_dt),\"%d/%-m/%y\")\n"
   ]
  },
  {
   "cell_type": "code",
   "execution_count": null,
   "metadata": {},
   "outputs": [],
   "source": [
    "# create the scatter plot\n",
    "color_names = [\"r\", \"g\", \"b\", \"peachpuff\", \"fuchsia\"]\n",
    "plt.figure(figsize=(7,5))\n",
    "\n",
    "#counter object\n",
    "counter = 0\n",
    "\n",
    "group = sentiments_pd.groupby('name')\n",
    "\n",
    "# loop through each target user\n",
    "for item in group.groups.keys():\n",
    "\n",
    "    df = sentiments_pd[sentiments_pd['name'] == item]\n",
    "    plt.scatter(        \n",
    "            x=df['tweets_ago'],\n",
    "            y=df['sentiment_compound'],\n",
    "            c = color_names[counter],\n",
    "            s = 100,\n",
    "            label = item,\n",
    "            alpha=0.75,\n",
    "            edgecolor='black',\n",
    "            linewidth='0.5')\n",
    "    counter += 1\n",
    "    \n",
    "# incorporate other graph properties\n",
    "plt.legend(title=\"Media Source\",bbox_to_anchor=(1.04,1), loc=\"upper left\")\n",
    "plt.xlabel(\"Tweets Ago\")\n",
    "plt.ylabel(\"Tweet Polarity\")\n",
    "plt.title(f\"Sentiment Analysis of Media Tweets ({date})\")\n",
    "plt.savefig(\"Output Analysis_News Mood/scatter.png\", bbox_inches='tight')\n",
    "plt.show();"
   ]
  },
  {
   "cell_type": "code",
   "execution_count": null,
   "metadata": {},
   "outputs": [],
   "source": [
    "# get the overall sentiment per media and store it in a dataframe\n",
    "sentiment_overall = sentiments_pd.groupby('name').agg({'sentiment_compound': np.mean}).reset_index()\n",
    "sentiment_overall"
   ]
  },
  {
   "cell_type": "code",
   "execution_count": null,
   "metadata": {},
   "outputs": [],
   "source": [
    "# create the bar plot\n",
    "plt.figure(figsize=(7,5))\n",
    "counter = 0\n",
    "\n",
    "# loop through each target user\n",
    "for xtick in range(len(sentiment_overall)):\n",
    "    plt.bar(xtick,\n",
    "            height=sentiment_overall['sentiment_compound'][counter],\n",
    "            label =sentiment_overall['name'][counter],\n",
    "            alpha=0.8)\n",
    "    counter += 1\n",
    "\n",
    "# incorporate other graph properties\n",
    "x_pos = [item for item in range(len(sentiment_overall))]\n",
    "bar_labels = sentiment_overall['name']\n",
    "plt.xticks(x_pos,bar_labels,rotation='45')\n",
    "plt.ylabel(\"Tweet Polarity\")\n",
    "plt.xlabel(\"Media Source\")\n",
    "plt.title(f\"Overall Sentiment based on Tweeter ({date})\")\n",
    "plt.savefig(\"Output Analysis_News Mood/bar.png\", bbox_inches='tight')\n",
    "plt.show();"
   ]
  },
  {
   "cell_type": "code",
   "execution_count": null,
   "metadata": {},
   "outputs": [],
   "source": [
    "Observations\n",
    "On average, CBS tweets had more positve sentiment compared to other media.\n",
    "On average, The Fox News tweets had more negative sentiment.\n",
    "On average, The New York Times tweets had more neutral sentiment."
   ]
  }
 ],
 "metadata": {
  "kernelspec": {
   "display_name": "Python [conda env:FirstEnv]",
   "language": "python",
   "name": "conda-env-FirstEnv-py"
  },
  "language_info": {
   "codemirror_mode": {
    "name": "ipython",
    "version": 3
   },
   "file_extension": ".py",
   "mimetype": "text/x-python",
   "name": "python",
   "nbconvert_exporter": "python",
   "pygments_lexer": "ipython3",
   "version": "3.6.4"
  }
 },
 "nbformat": 4,
 "nbformat_minor": 2
}
