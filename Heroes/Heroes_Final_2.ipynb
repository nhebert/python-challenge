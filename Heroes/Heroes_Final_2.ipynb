{
 "cells": [
  {
   "cell_type": "code",
   "execution_count": 102,
   "metadata": {},
   "outputs": [],
   "source": [
    "#import the necessary libraries\n",
    "import os\n",
    "import pandas as pd\n",
    "import numpy as np\n",
    "import json"
   ]
  },
  {
   "cell_type": "code",
   "execution_count": 103,
   "metadata": {},
   "outputs": [],
   "source": [
    "filepath = os.path.join(\"purchase_data.json\")"
   ]
  },
  {
   "cell_type": "code",
   "execution_count": 104,
   "metadata": {},
   "outputs": [],
   "source": [
    "Heroes = pd.read_json(filepath)"
   ]
  },
  {
   "cell_type": "code",
   "execution_count": 105,
   "metadata": {},
   "outputs": [
    {
     "data": {
      "text/html": [
       "<div>\n",
       "<style scoped>\n",
       "    .dataframe tbody tr th:only-of-type {\n",
       "        vertical-align: middle;\n",
       "    }\n",
       "\n",
       "    .dataframe tbody tr th {\n",
       "        vertical-align: top;\n",
       "    }\n",
       "\n",
       "    .dataframe thead th {\n",
       "        text-align: right;\n",
       "    }\n",
       "</style>\n",
       "<table border=\"1\" class=\"dataframe\">\n",
       "  <thead>\n",
       "    <tr style=\"text-align: right;\">\n",
       "      <th></th>\n",
       "      <th>Age</th>\n",
       "      <th>Gender</th>\n",
       "      <th>Item ID</th>\n",
       "      <th>Item Name</th>\n",
       "      <th>Price</th>\n",
       "      <th>SN</th>\n",
       "    </tr>\n",
       "  </thead>\n",
       "  <tbody>\n",
       "    <tr>\n",
       "      <th>0</th>\n",
       "      <td>38</td>\n",
       "      <td>Male</td>\n",
       "      <td>165</td>\n",
       "      <td>Bone Crushing Silver Skewer</td>\n",
       "      <td>3.37</td>\n",
       "      <td>Aelalis34</td>\n",
       "    </tr>\n",
       "    <tr>\n",
       "      <th>1</th>\n",
       "      <td>21</td>\n",
       "      <td>Male</td>\n",
       "      <td>119</td>\n",
       "      <td>Stormbringer, Dark Blade of Ending Misery</td>\n",
       "      <td>2.32</td>\n",
       "      <td>Eolo46</td>\n",
       "    </tr>\n",
       "    <tr>\n",
       "      <th>2</th>\n",
       "      <td>34</td>\n",
       "      <td>Male</td>\n",
       "      <td>174</td>\n",
       "      <td>Primitive Blade</td>\n",
       "      <td>2.46</td>\n",
       "      <td>Assastnya25</td>\n",
       "    </tr>\n",
       "    <tr>\n",
       "      <th>3</th>\n",
       "      <td>21</td>\n",
       "      <td>Male</td>\n",
       "      <td>92</td>\n",
       "      <td>Final Critic</td>\n",
       "      <td>1.36</td>\n",
       "      <td>Pheusrical25</td>\n",
       "    </tr>\n",
       "    <tr>\n",
       "      <th>4</th>\n",
       "      <td>23</td>\n",
       "      <td>Male</td>\n",
       "      <td>63</td>\n",
       "      <td>Stormfury Mace</td>\n",
       "      <td>1.27</td>\n",
       "      <td>Aela59</td>\n",
       "    </tr>\n",
       "  </tbody>\n",
       "</table>\n",
       "</div>"
      ],
      "text/plain": [
       "   Age Gender  Item ID                                  Item Name  Price  \\\n",
       "0   38   Male      165                Bone Crushing Silver Skewer   3.37   \n",
       "1   21   Male      119  Stormbringer, Dark Blade of Ending Misery   2.32   \n",
       "2   34   Male      174                            Primitive Blade   2.46   \n",
       "3   21   Male       92                               Final Critic   1.36   \n",
       "4   23   Male       63                             Stormfury Mace   1.27   \n",
       "\n",
       "             SN  \n",
       "0     Aelalis34  \n",
       "1        Eolo46  \n",
       "2   Assastnya25  \n",
       "3  Pheusrical25  \n",
       "4        Aela59  "
      ]
     },
     "metadata": {},
     "output_type": "display_data"
    }
   ],
   "source": [
    "display(Heroes.head(5))"
   ]
  },
  {
   "cell_type": "code",
   "execution_count": 106,
   "metadata": {},
   "outputs": [
    {
     "data": {
      "text/plain": [
       "(780, 6)"
      ]
     },
     "metadata": {},
     "output_type": "display_data"
    }
   ],
   "source": [
    "display(Heroes.shape)"
   ]
  },
  {
   "cell_type": "code",
   "execution_count": 107,
   "metadata": {},
   "outputs": [
    {
     "name": "stdout",
     "output_type": "stream",
     "text": [
      "<class 'pandas.core.frame.DataFrame'>\n",
      "Int64Index: 780 entries, 0 to 779\n",
      "Data columns (total 6 columns):\n",
      "Age          780 non-null int64\n",
      "Gender       780 non-null object\n",
      "Item ID      780 non-null int64\n",
      "Item Name    780 non-null object\n",
      "Price        780 non-null float64\n",
      "SN           780 non-null object\n",
      "dtypes: float64(1), int64(2), object(3)\n",
      "memory usage: 42.7+ KB\n"
     ]
    }
   ],
   "source": [
    "#datatypes of the dataframe\n",
    "Heroes.info()"
   ]
  },
  {
   "cell_type": "code",
   "execution_count": 108,
   "metadata": {},
   "outputs": [
    {
     "data": {
      "text/plain": [
       "573"
      ]
     },
     "execution_count": 108,
     "metadata": {},
     "output_type": "execute_result"
    }
   ],
   "source": [
    "# Total Number of Players\n",
    "Heroes['SN'].nunique()"
   ]
  },
  {
   "cell_type": "code",
   "execution_count": 109,
   "metadata": {},
   "outputs": [
    {
     "data": {
      "text/html": [
       "<style  type=\"text/css\" >\n",
       "    #T_ebfdb60c_54a9_11e8_a7dd_8c8590bb111frow0_col0 {\n",
       "            background-color:  ash;\n",
       "            color:  black;\n",
       "            border-color:  white;\n",
       "        }</style>  \n",
       "<table id=\"T_ebfdb60c_54a9_11e8_a7dd_8c8590bb111f\" > \n",
       "<thead>    <tr> \n",
       "        <th class=\"blank level0\" ></th> \n",
       "        <th class=\"col_heading level0 col0\" >Total Number of Players</th> \n",
       "    </tr></thead> \n",
       "<tbody>    <tr> \n",
       "        <th id=\"T_ebfdb60c_54a9_11e8_a7dd_8c8590bb111flevel0_row0\" class=\"row_heading level0 row0\" >0</th> \n",
       "        <td id=\"T_ebfdb60c_54a9_11e8_a7dd_8c8590bb111frow0_col0\" class=\"data row0 col0\" >573</td> \n",
       "    </tr></tbody> \n",
       "</table> "
      ],
      "text/plain": [
       "<pandas.io.formats.style.Styler at 0x10d767780>"
      ]
     },
     "execution_count": 109,
     "metadata": {},
     "output_type": "execute_result"
    }
   ],
   "source": [
    "pd.DataFrame({\"Total Number of Players\":Heroes['SN'].nunique()},index=[0]).style.set_properties(**{'background-color': 'ash','color': 'black','border-color': 'white'})"
   ]
  },
  {
   "cell_type": "code",
   "execution_count": 110,
   "metadata": {},
   "outputs": [
    {
     "data": {
      "text/plain": [
       "183"
      ]
     },
     "execution_count": 110,
     "metadata": {},
     "output_type": "execute_result"
    }
   ],
   "source": [
    "# Number of Unique Items\n",
    "Heroes['Item ID'].nunique()"
   ]
  },
  {
   "cell_type": "code",
   "execution_count": 111,
   "metadata": {},
   "outputs": [
    {
     "data": {
      "text/plain": [
       "2.931192307692303"
      ]
     },
     "execution_count": 111,
     "metadata": {},
     "output_type": "execute_result"
    }
   ],
   "source": [
    "# Average Purchase Price\n",
    "Heroes['Price'].mean()"
   ]
  },
  {
   "cell_type": "code",
   "execution_count": 112,
   "metadata": {},
   "outputs": [
    {
     "data": {
      "text/plain": [
       "780"
      ]
     },
     "execution_count": 112,
     "metadata": {},
     "output_type": "execute_result"
    }
   ],
   "source": [
    "# Total Number of Purchases\n",
    "len(Heroes)"
   ]
  },
  {
   "cell_type": "code",
   "execution_count": 113,
   "metadata": {},
   "outputs": [
    {
     "data": {
      "text/plain": [
       "2286.33"
      ]
     },
     "execution_count": 113,
     "metadata": {},
     "output_type": "execute_result"
    }
   ],
   "source": [
    "# Total Revenue\n",
    "Heroes['Price'].sum()"
   ]
  },
  {
   "cell_type": "code",
   "execution_count": 114,
   "metadata": {},
   "outputs": [
    {
     "data": {
      "text/html": [
       "<style  type=\"text/css\" >\n",
       "    #T_f8ea9378_54a9_11e8_b634_8c8590bb111frow0_col0 {\n",
       "            background-color:  ash;\n",
       "            color:  black;\n",
       "            border-color:  white;\n",
       "        }    #T_f8ea9378_54a9_11e8_b634_8c8590bb111frow0_col1 {\n",
       "            background-color:  ash;\n",
       "            color:  black;\n",
       "            border-color:  white;\n",
       "        }    #T_f8ea9378_54a9_11e8_b634_8c8590bb111frow0_col2 {\n",
       "            background-color:  ash;\n",
       "            color:  black;\n",
       "            border-color:  white;\n",
       "        }    #T_f8ea9378_54a9_11e8_b634_8c8590bb111frow0_col3 {\n",
       "            background-color:  ash;\n",
       "            color:  black;\n",
       "            border-color:  white;\n",
       "        }</style>  \n",
       "<table id=\"T_f8ea9378_54a9_11e8_b634_8c8590bb111f\" > \n",
       "<thead>    <tr> \n",
       "        <th class=\"blank level0\" ></th> \n",
       "        <th class=\"col_heading level0 col0\" >Average Purchase Price</th> \n",
       "        <th class=\"col_heading level0 col1\" >Number of Unique Items</th> \n",
       "        <th class=\"col_heading level0 col2\" >Total Number of Purchases</th> \n",
       "        <th class=\"col_heading level0 col3\" >Total Revenue</th> \n",
       "    </tr></thead> \n",
       "<tbody>    <tr> \n",
       "        <th id=\"T_f8ea9378_54a9_11e8_b634_8c8590bb111flevel0_row0\" class=\"row_heading level0 row0\" >0</th> \n",
       "        <td id=\"T_f8ea9378_54a9_11e8_b634_8c8590bb111frow0_col0\" class=\"data row0 col0\" >2.93119</td> \n",
       "        <td id=\"T_f8ea9378_54a9_11e8_b634_8c8590bb111frow0_col1\" class=\"data row0 col1\" >183</td> \n",
       "        <td id=\"T_f8ea9378_54a9_11e8_b634_8c8590bb111frow0_col2\" class=\"data row0 col2\" >780</td> \n",
       "        <td id=\"T_f8ea9378_54a9_11e8_b634_8c8590bb111frow0_col3\" class=\"data row0 col3\" >2286.33</td> \n",
       "    </tr></tbody> \n",
       "</table> "
      ],
      "text/plain": [
       "<pandas.io.formats.style.Styler at 0x10d7675f8>"
      ]
     },
     "execution_count": 114,
     "metadata": {},
     "output_type": "execute_result"
    }
   ],
   "source": [
    "pd.DataFrame({\"Number of Unique Items\":df['Item ID'].nunique(),\n",
    "  \"Average Purchase Price\":df['Price'].mean(),\n",
    " \"Total Number of Purchases\":len(df),\n",
    "\"Total Revenue\":df['Price'].sum()},index=[0]).style.set_properties(**{'background-color': 'ash','color': 'black','border-color': 'white'})"
   ]
  },
  {
   "cell_type": "code",
   "execution_count": 117,
   "metadata": {},
   "outputs": [
    {
     "data": {
      "text/html": [
       "<div>\n",
       "<style scoped>\n",
       "    .dataframe tbody tr th:only-of-type {\n",
       "        vertical-align: middle;\n",
       "    }\n",
       "\n",
       "    .dataframe tbody tr th {\n",
       "        vertical-align: top;\n",
       "    }\n",
       "\n",
       "    .dataframe thead th {\n",
       "        text-align: right;\n",
       "    }\n",
       "</style>\n",
       "<table border=\"1\" class=\"dataframe\">\n",
       "  <thead>\n",
       "    <tr style=\"text-align: right;\">\n",
       "      <th></th>\n",
       "      <th>Age</th>\n",
       "      <th>Gender</th>\n",
       "      <th>Item ID</th>\n",
       "      <th>Item Name</th>\n",
       "      <th>Price</th>\n",
       "      <th>SN</th>\n",
       "    </tr>\n",
       "  </thead>\n",
       "  <tbody>\n",
       "    <tr>\n",
       "      <th>431</th>\n",
       "      <td>37</td>\n",
       "      <td>Male</td>\n",
       "      <td>92</td>\n",
       "      <td>Final Critic</td>\n",
       "      <td>1.36</td>\n",
       "      <td>Aduephos78</td>\n",
       "    </tr>\n",
       "    <tr>\n",
       "      <th>308</th>\n",
       "      <td>37</td>\n",
       "      <td>Male</td>\n",
       "      <td>79</td>\n",
       "      <td>Alpha, Oath of Zeal</td>\n",
       "      <td>2.88</td>\n",
       "      <td>Aduephos78</td>\n",
       "    </tr>\n",
       "    <tr>\n",
       "      <th>377</th>\n",
       "      <td>37</td>\n",
       "      <td>Male</td>\n",
       "      <td>174</td>\n",
       "      <td>Primitive Blade</td>\n",
       "      <td>2.46</td>\n",
       "      <td>Aduephos78</td>\n",
       "    </tr>\n",
       "    <tr>\n",
       "      <th>647</th>\n",
       "      <td>26</td>\n",
       "      <td>Male</td>\n",
       "      <td>156</td>\n",
       "      <td>Soul-Forged Steel Shortsword</td>\n",
       "      <td>1.16</td>\n",
       "      <td>Aeduera68</td>\n",
       "    </tr>\n",
       "    <tr>\n",
       "      <th>721</th>\n",
       "      <td>26</td>\n",
       "      <td>Male</td>\n",
       "      <td>39</td>\n",
       "      <td>Betrayal, Whisper of Grieving Widows</td>\n",
       "      <td>2.35</td>\n",
       "      <td>Aeduera68</td>\n",
       "    </tr>\n",
       "    <tr>\n",
       "      <th>224</th>\n",
       "      <td>26</td>\n",
       "      <td>Male</td>\n",
       "      <td>106</td>\n",
       "      <td>Crying Steel Sickle</td>\n",
       "      <td>2.29</td>\n",
       "      <td>Aeduera68</td>\n",
       "    </tr>\n",
       "    <tr>\n",
       "      <th>529</th>\n",
       "      <td>38</td>\n",
       "      <td>Male</td>\n",
       "      <td>172</td>\n",
       "      <td>Blade of the Grave</td>\n",
       "      <td>1.69</td>\n",
       "      <td>Aelalis34</td>\n",
       "    </tr>\n",
       "    <tr>\n",
       "      <th>0</th>\n",
       "      <td>38</td>\n",
       "      <td>Male</td>\n",
       "      <td>165</td>\n",
       "      <td>Bone Crushing Silver Skewer</td>\n",
       "      <td>3.37</td>\n",
       "      <td>Aelalis34</td>\n",
       "    </tr>\n",
       "    <tr>\n",
       "      <th>359</th>\n",
       "      <td>20</td>\n",
       "      <td>Male</td>\n",
       "      <td>32</td>\n",
       "      <td>Orenmir</td>\n",
       "      <td>4.95</td>\n",
       "      <td>Aeliriam77</td>\n",
       "    </tr>\n",
       "    <tr>\n",
       "      <th>637</th>\n",
       "      <td>20</td>\n",
       "      <td>Male</td>\n",
       "      <td>18</td>\n",
       "      <td>Torchlight, Bond of Storms</td>\n",
       "      <td>1.77</td>\n",
       "      <td>Aeliriam77</td>\n",
       "    </tr>\n",
       "  </tbody>\n",
       "</table>\n",
       "</div>"
      ],
      "text/plain": [
       "     Age Gender  Item ID                             Item Name  Price  \\\n",
       "431   37   Male       92                          Final Critic   1.36   \n",
       "308   37   Male       79                   Alpha, Oath of Zeal   2.88   \n",
       "377   37   Male      174                       Primitive Blade   2.46   \n",
       "647   26   Male      156          Soul-Forged Steel Shortsword   1.16   \n",
       "721   26   Male       39  Betrayal, Whisper of Grieving Widows   2.35   \n",
       "224   26   Male      106                   Crying Steel Sickle   2.29   \n",
       "529   38   Male      172                    Blade of the Grave   1.69   \n",
       "0     38   Male      165           Bone Crushing Silver Skewer   3.37   \n",
       "359   20   Male       32                               Orenmir   4.95   \n",
       "637   20   Male       18            Torchlight, Bond of Storms   1.77   \n",
       "\n",
       "             SN  \n",
       "431  Aduephos78  \n",
       "308  Aduephos78  \n",
       "377  Aduephos78  \n",
       "647   Aeduera68  \n",
       "721   Aeduera68  \n",
       "224   Aeduera68  \n",
       "529   Aelalis34  \n",
       "0     Aelalis34  \n",
       "359  Aeliriam77  \n",
       "637  Aeliriam77  "
      ]
     },
     "metadata": {},
     "output_type": "display_data"
    },
    {
     "data": {
      "text/plain": [
       "375"
      ]
     },
     "metadata": {},
     "output_type": "display_data"
    }
   ],
   "source": [
    "# get all the duplicate rows\n",
    "display(Heroes.loc[df.duplicated(\"SN\",keep=False),:].sort_values(\"SN\").head(10))\n",
    "display(len(Heroes.loc[Heroes.duplicated(\"SN\",keep=False),:]))"
   ]
  },
  {
   "cell_type": "code",
   "execution_count": 119,
   "metadata": {},
   "outputs": [
    {
     "data": {
      "text/plain": [
       "573"
      ]
     },
     "execution_count": 119,
     "metadata": {},
     "output_type": "execute_result"
    }
   ],
   "source": [
    "# drop the duplicate SN rows \n",
    "Heroes_unique = df.drop_duplicates(\"SN\", keep='first')\n",
    "len(Heroes_unique)"
   ]
  },
  {
   "cell_type": "code",
   "execution_count": 120,
   "metadata": {},
   "outputs": [
    {
     "data": {
      "text/html": [
       "<div>\n",
       "<style scoped>\n",
       "    .dataframe tbody tr th:only-of-type {\n",
       "        vertical-align: middle;\n",
       "    }\n",
       "\n",
       "    .dataframe tbody tr th {\n",
       "        vertical-align: top;\n",
       "    }\n",
       "\n",
       "    .dataframe thead th {\n",
       "        text-align: right;\n",
       "    }\n",
       "</style>\n",
       "<table border=\"1\" class=\"dataframe\">\n",
       "  <thead>\n",
       "    <tr style=\"text-align: right;\">\n",
       "      <th></th>\n",
       "      <th>Percentage of players</th>\n",
       "      <th>Total Count</th>\n",
       "    </tr>\n",
       "  </thead>\n",
       "  <tbody>\n",
       "    <tr>\n",
       "      <th>Male</th>\n",
       "      <td>0.811518</td>\n",
       "      <td>465</td>\n",
       "    </tr>\n",
       "    <tr>\n",
       "      <th>Female</th>\n",
       "      <td>0.174520</td>\n",
       "      <td>100</td>\n",
       "    </tr>\n",
       "    <tr>\n",
       "      <th>Other / Non-Disclosed</th>\n",
       "      <td>0.013962</td>\n",
       "      <td>8</td>\n",
       "    </tr>\n",
       "  </tbody>\n",
       "</table>\n",
       "</div>"
      ],
      "text/plain": [
       "                       Percentage of players  Total Count\n",
       "Male                                0.811518          465\n",
       "Female                              0.174520          100\n",
       "Other / Non-Disclosed               0.013962            8"
      ]
     },
     "execution_count": 120,
     "metadata": {},
     "output_type": "execute_result"
    }
   ],
   "source": [
    "pd.DataFrame({'Percentage of players' : Heroes_unique['Gender'].value_counts(normalize=True),\n",
    "   'Total Count' : Heroes_unique['Gender'].value_counts()})"
   ]
  },
  {
   "cell_type": "code",
   "execution_count": 121,
   "metadata": {},
   "outputs": [
    {
     "data": {
      "text/html": [
       "<div>\n",
       "<style scoped>\n",
       "    .dataframe tbody tr th:only-of-type {\n",
       "        vertical-align: middle;\n",
       "    }\n",
       "\n",
       "    .dataframe tbody tr th {\n",
       "        vertical-align: top;\n",
       "    }\n",
       "\n",
       "    .dataframe thead tr th {\n",
       "        text-align: left;\n",
       "    }\n",
       "\n",
       "    .dataframe thead tr:last-of-type th {\n",
       "        text-align: right;\n",
       "    }\n",
       "</style>\n",
       "<table border=\"1\" class=\"dataframe\">\n",
       "  <thead>\n",
       "    <tr>\n",
       "      <th></th>\n",
       "      <th colspan=\"2\" halign=\"left\">Price</th>\n",
       "      <th>Item ID</th>\n",
       "    </tr>\n",
       "    <tr>\n",
       "      <th></th>\n",
       "      <th>mean</th>\n",
       "      <th>sum</th>\n",
       "      <th>count</th>\n",
       "    </tr>\n",
       "    <tr>\n",
       "      <th>Gender</th>\n",
       "      <th></th>\n",
       "      <th></th>\n",
       "      <th></th>\n",
       "    </tr>\n",
       "  </thead>\n",
       "  <tbody>\n",
       "    <tr>\n",
       "      <th>Female</th>\n",
       "      <td>2.815515</td>\n",
       "      <td>382.91</td>\n",
       "      <td>136</td>\n",
       "    </tr>\n",
       "    <tr>\n",
       "      <th>Male</th>\n",
       "      <td>2.950521</td>\n",
       "      <td>1867.68</td>\n",
       "      <td>633</td>\n",
       "    </tr>\n",
       "    <tr>\n",
       "      <th>Other / Non-Disclosed</th>\n",
       "      <td>3.249091</td>\n",
       "      <td>35.74</td>\n",
       "      <td>11</td>\n",
       "    </tr>\n",
       "  </tbody>\n",
       "</table>\n",
       "</div>"
      ],
      "text/plain": [
       "                          Price          Item ID\n",
       "                           mean      sum   count\n",
       "Gender                                          \n",
       "Female                 2.815515   382.91     136\n",
       "Male                   2.950521  1867.68     633\n",
       "Other / Non-Disclosed  3.249091    35.74      11"
      ]
     },
     "execution_count": 121,
     "metadata": {},
     "output_type": "execute_result"
    }
   ],
   "source": [
    "summary_gender_purchasing = pd.DataFrame(Heroes.groupby('Gender').agg({'Price':[np.mean,np.sum],'Item ID':'count'}))\n",
    "summary_gender_purchasing"
   ]
  },
  {
   "cell_type": "code",
   "execution_count": 122,
   "metadata": {},
   "outputs": [
    {
     "data": {
      "text/html": [
       "<div>\n",
       "<style scoped>\n",
       "    .dataframe tbody tr th:only-of-type {\n",
       "        vertical-align: middle;\n",
       "    }\n",
       "\n",
       "    .dataframe tbody tr th {\n",
       "        vertical-align: top;\n",
       "    }\n",
       "\n",
       "    .dataframe thead th {\n",
       "        text-align: right;\n",
       "    }\n",
       "</style>\n",
       "<table border=\"1\" class=\"dataframe\">\n",
       "  <thead>\n",
       "    <tr style=\"text-align: right;\">\n",
       "      <th></th>\n",
       "      <th>days</th>\n",
       "      <th>range</th>\n",
       "    </tr>\n",
       "  </thead>\n",
       "  <tbody>\n",
       "    <tr>\n",
       "      <th>0</th>\n",
       "      <td>0</td>\n",
       "      <td>[0, 30)</td>\n",
       "    </tr>\n",
       "    <tr>\n",
       "      <th>1</th>\n",
       "      <td>31</td>\n",
       "      <td>[30, 60)</td>\n",
       "    </tr>\n",
       "    <tr>\n",
       "      <th>2</th>\n",
       "      <td>45</td>\n",
       "      <td>[30, 60)</td>\n",
       "    </tr>\n",
       "    <tr>\n",
       "      <th>3</th>\n",
       "      <td>60</td>\n",
       "      <td>[60, 90)</td>\n",
       "    </tr>\n",
       "  </tbody>\n",
       "</table>\n",
       "</div>"
      ],
      "text/plain": [
       "   days     range\n",
       "0     0   [0, 30)\n",
       "1    31  [30, 60)\n",
       "2    45  [30, 60)\n",
       "3    60  [60, 90)"
      ]
     },
     "execution_count": 122,
     "metadata": {},
     "output_type": "execute_result"
    }
   ],
   "source": [
    "test = pd.DataFrame({'days': [0,31,45,60]})\n",
    "test['range'] = pd.cut(test.days, [0,30,60,90], right=False)\n",
    "test\n",
    "\n",
    "# right : Indicates whether the bins include the rightmost edge or not. If\n",
    "# right == True (the default), then the bins [1,2,3,4] indicate\n",
    "# (1,2], (2,3], (3,4]"
   ]
  },
  {
   "cell_type": "code",
   "execution_count": 123,
   "metadata": {},
   "outputs": [],
   "source": [
    "bins = [0, 10, 15, 20, 25, 30, 35, 40, 100]\n",
    "age_labels = ['<10', '10-14', '15-19', '20-24','25-29','30-34','35-39','40+']\n",
    "Heroes['Age_Group'] = pd.cut(Heroes['Age'], bins ,labels = age_labels,right=False)"
   ]
  },
  {
   "cell_type": "code",
   "execution_count": 125,
   "metadata": {},
   "outputs": [],
   "source": [
    "sum_age = pd.DataFrame(df.groupby('Age_Group').agg({'Price':[np.mean,np.sum],'Item ID':'count'}))"
   ]
  },
  {
   "cell_type": "code",
   "execution_count": 126,
   "metadata": {},
   "outputs": [
    {
     "data": {
      "text/html": [
       "<style  type=\"text/css\" >\n",
       "</style>  \n",
       "<table id=\"T_357c298c_54aa_11e8_acf3_8c8590bb111f\" > \n",
       "<thead>    <tr> \n",
       "        <th class=\"blank level0\" ></th> \n",
       "        <th class=\"col_heading level0 col0\" colspan=2>Price</th> \n",
       "        <th class=\"col_heading level0 col2\" >Item ID</th> \n",
       "    </tr>    <tr> \n",
       "        <th class=\"blank level1\" ></th> \n",
       "        <th class=\"col_heading level1 col0\" >mean</th> \n",
       "        <th class=\"col_heading level1 col1\" >sum</th> \n",
       "        <th class=\"col_heading level1 col2\" >count</th> \n",
       "    </tr>    <tr> \n",
       "        <th class=\"index_name level0\" >Age_Group</th> \n",
       "        <th class=\"blank\" ></th> \n",
       "        <th class=\"blank\" ></th> \n",
       "        <th class=\"blank\" ></th> \n",
       "    </tr></thead> \n",
       "<tbody>    <tr> \n",
       "        <th id=\"T_357c298c_54aa_11e8_acf3_8c8590bb111flevel0_row0\" class=\"row_heading level0 row0\" ><10</th> \n",
       "        <td id=\"T_357c298c_54aa_11e8_acf3_8c8590bb111frow0_col0\" class=\"data row0 col0\" >2.98071</td> \n",
       "        <td id=\"T_357c298c_54aa_11e8_acf3_8c8590bb111frow0_col1\" class=\"data row0 col1\" >83.46</td> \n",
       "        <td id=\"T_357c298c_54aa_11e8_acf3_8c8590bb111frow0_col2\" class=\"data row0 col2\" >28</td> \n",
       "    </tr>    <tr> \n",
       "        <th id=\"T_357c298c_54aa_11e8_acf3_8c8590bb111flevel0_row1\" class=\"row_heading level0 row1\" >10-14</th> \n",
       "        <td id=\"T_357c298c_54aa_11e8_acf3_8c8590bb111frow1_col0\" class=\"data row1 col0\" >2.77</td> \n",
       "        <td id=\"T_357c298c_54aa_11e8_acf3_8c8590bb111frow1_col1\" class=\"data row1 col1\" >96.95</td> \n",
       "        <td id=\"T_357c298c_54aa_11e8_acf3_8c8590bb111frow1_col2\" class=\"data row1 col2\" >35</td> \n",
       "    </tr>    <tr> \n",
       "        <th id=\"T_357c298c_54aa_11e8_acf3_8c8590bb111flevel0_row2\" class=\"row_heading level0 row2\" >15-19</th> \n",
       "        <td id=\"T_357c298c_54aa_11e8_acf3_8c8590bb111frow2_col0\" class=\"data row2 col0\" >2.90541</td> \n",
       "        <td id=\"T_357c298c_54aa_11e8_acf3_8c8590bb111frow2_col1\" class=\"data row2 col1\" >386.42</td> \n",
       "        <td id=\"T_357c298c_54aa_11e8_acf3_8c8590bb111frow2_col2\" class=\"data row2 col2\" >133</td> \n",
       "    </tr>    <tr> \n",
       "        <th id=\"T_357c298c_54aa_11e8_acf3_8c8590bb111flevel0_row3\" class=\"row_heading level0 row3\" >20-24</th> \n",
       "        <td id=\"T_357c298c_54aa_11e8_acf3_8c8590bb111frow3_col0\" class=\"data row3 col0\" >2.91301</td> \n",
       "        <td id=\"T_357c298c_54aa_11e8_acf3_8c8590bb111frow3_col1\" class=\"data row3 col1\" >978.77</td> \n",
       "        <td id=\"T_357c298c_54aa_11e8_acf3_8c8590bb111frow3_col2\" class=\"data row3 col2\" >336</td> \n",
       "    </tr>    <tr> \n",
       "        <th id=\"T_357c298c_54aa_11e8_acf3_8c8590bb111flevel0_row4\" class=\"row_heading level0 row4\" >25-29</th> \n",
       "        <td id=\"T_357c298c_54aa_11e8_acf3_8c8590bb111frow4_col0\" class=\"data row4 col0\" >2.96264</td> \n",
       "        <td id=\"T_357c298c_54aa_11e8_acf3_8c8590bb111frow4_col1\" class=\"data row4 col1\" >370.33</td> \n",
       "        <td id=\"T_357c298c_54aa_11e8_acf3_8c8590bb111frow4_col2\" class=\"data row4 col2\" >125</td> \n",
       "    </tr>    <tr> \n",
       "        <th id=\"T_357c298c_54aa_11e8_acf3_8c8590bb111flevel0_row5\" class=\"row_heading level0 row5\" >30-34</th> \n",
       "        <td id=\"T_357c298c_54aa_11e8_acf3_8c8590bb111frow5_col0\" class=\"data row5 col0\" >3.08203</td> \n",
       "        <td id=\"T_357c298c_54aa_11e8_acf3_8c8590bb111frow5_col1\" class=\"data row5 col1\" >197.25</td> \n",
       "        <td id=\"T_357c298c_54aa_11e8_acf3_8c8590bb111frow5_col2\" class=\"data row5 col2\" >64</td> \n",
       "    </tr>    <tr> \n",
       "        <th id=\"T_357c298c_54aa_11e8_acf3_8c8590bb111flevel0_row6\" class=\"row_heading level0 row6\" >35-39</th> \n",
       "        <td id=\"T_357c298c_54aa_11e8_acf3_8c8590bb111frow6_col0\" class=\"data row6 col0\" >2.84286</td> \n",
       "        <td id=\"T_357c298c_54aa_11e8_acf3_8c8590bb111frow6_col1\" class=\"data row6 col1\" >119.4</td> \n",
       "        <td id=\"T_357c298c_54aa_11e8_acf3_8c8590bb111frow6_col2\" class=\"data row6 col2\" >42</td> \n",
       "    </tr>    <tr> \n",
       "        <th id=\"T_357c298c_54aa_11e8_acf3_8c8590bb111flevel0_row7\" class=\"row_heading level0 row7\" >40+</th> \n",
       "        <td id=\"T_357c298c_54aa_11e8_acf3_8c8590bb111frow7_col0\" class=\"data row7 col0\" >3.16176</td> \n",
       "        <td id=\"T_357c298c_54aa_11e8_acf3_8c8590bb111frow7_col1\" class=\"data row7 col1\" >53.75</td> \n",
       "        <td id=\"T_357c298c_54aa_11e8_acf3_8c8590bb111frow7_col2\" class=\"data row7 col2\" >17</td> \n",
       "    </tr></tbody> \n",
       "</table> "
      ],
      "text/plain": [
       "<pandas.io.formats.style.Styler at 0x10d761da0>"
      ]
     },
     "execution_count": 126,
     "metadata": {},
     "output_type": "execute_result"
    }
   ],
   "source": [
    "sum_age.style"
   ]
  },
  {
   "cell_type": "code",
   "execution_count": 127,
   "metadata": {},
   "outputs": [],
   "source": [
    "sum_spenders = pd.DataFrame(Heroes.groupby(['SN']).agg({'Price':[np.mean,np.sum],'Item ID':'count'}))"
   ]
  },
  {
   "cell_type": "code",
   "execution_count": 128,
   "metadata": {},
   "outputs": [
    {
     "data": {
      "text/html": [
       "<style  type=\"text/css\" >\n",
       "    #T_447b0890_54aa_11e8_9abc_8c8590bb111frow0_col0 {\n",
       "            background-color:  white;\n",
       "            color:  black;\n",
       "            border-color:  white;\n",
       "        }    #T_447b0890_54aa_11e8_9abc_8c8590bb111frow0_col1 {\n",
       "            background-color:  white;\n",
       "            color:  black;\n",
       "            border-color:  white;\n",
       "        }    #T_447b0890_54aa_11e8_9abc_8c8590bb111frow0_col2 {\n",
       "            background-color:  white;\n",
       "            color:  black;\n",
       "            border-color:  white;\n",
       "        }    #T_447b0890_54aa_11e8_9abc_8c8590bb111frow1_col0 {\n",
       "            background-color:  white;\n",
       "            color:  black;\n",
       "            border-color:  white;\n",
       "        }    #T_447b0890_54aa_11e8_9abc_8c8590bb111frow1_col1 {\n",
       "            background-color:  white;\n",
       "            color:  black;\n",
       "            border-color:  white;\n",
       "        }    #T_447b0890_54aa_11e8_9abc_8c8590bb111frow1_col2 {\n",
       "            background-color:  white;\n",
       "            color:  black;\n",
       "            border-color:  white;\n",
       "        }    #T_447b0890_54aa_11e8_9abc_8c8590bb111frow2_col0 {\n",
       "            background-color:  white;\n",
       "            color:  black;\n",
       "            border-color:  white;\n",
       "        }    #T_447b0890_54aa_11e8_9abc_8c8590bb111frow2_col1 {\n",
       "            background-color:  white;\n",
       "            color:  black;\n",
       "            border-color:  white;\n",
       "        }    #T_447b0890_54aa_11e8_9abc_8c8590bb111frow2_col2 {\n",
       "            background-color:  white;\n",
       "            color:  black;\n",
       "            border-color:  white;\n",
       "        }    #T_447b0890_54aa_11e8_9abc_8c8590bb111frow3_col0 {\n",
       "            background-color:  white;\n",
       "            color:  black;\n",
       "            border-color:  white;\n",
       "        }    #T_447b0890_54aa_11e8_9abc_8c8590bb111frow3_col1 {\n",
       "            background-color:  white;\n",
       "            color:  black;\n",
       "            border-color:  white;\n",
       "        }    #T_447b0890_54aa_11e8_9abc_8c8590bb111frow3_col2 {\n",
       "            background-color:  white;\n",
       "            color:  black;\n",
       "            border-color:  white;\n",
       "        }    #T_447b0890_54aa_11e8_9abc_8c8590bb111frow4_col0 {\n",
       "            background-color:  white;\n",
       "            color:  black;\n",
       "            border-color:  white;\n",
       "        }    #T_447b0890_54aa_11e8_9abc_8c8590bb111frow4_col1 {\n",
       "            background-color:  white;\n",
       "            color:  black;\n",
       "            border-color:  white;\n",
       "        }    #T_447b0890_54aa_11e8_9abc_8c8590bb111frow4_col2 {\n",
       "            background-color:  white;\n",
       "            color:  black;\n",
       "            border-color:  white;\n",
       "        }</style>  \n",
       "<table id=\"T_447b0890_54aa_11e8_9abc_8c8590bb111f\" > \n",
       "<thead>    <tr> \n",
       "        <th class=\"blank level0\" ></th> \n",
       "        <th class=\"col_heading level0 col0\" colspan=2>Price</th> \n",
       "        <th class=\"col_heading level0 col2\" >Item ID</th> \n",
       "    </tr>    <tr> \n",
       "        <th class=\"blank level1\" ></th> \n",
       "        <th class=\"col_heading level1 col0\" >mean</th> \n",
       "        <th class=\"col_heading level1 col1\" >sum</th> \n",
       "        <th class=\"col_heading level1 col2\" >count</th> \n",
       "    </tr>    <tr> \n",
       "        <th class=\"index_name level0\" >SN</th> \n",
       "        <th class=\"blank\" ></th> \n",
       "        <th class=\"blank\" ></th> \n",
       "        <th class=\"blank\" ></th> \n",
       "    </tr></thead> \n",
       "<tbody>    <tr> \n",
       "        <th id=\"T_447b0890_54aa_11e8_9abc_8c8590bb111flevel0_row0\" class=\"row_heading level0 row0\" >Undirrala66</th> \n",
       "        <td id=\"T_447b0890_54aa_11e8_9abc_8c8590bb111frow0_col0\" class=\"data row0 col0\" >3.412</td> \n",
       "        <td id=\"T_447b0890_54aa_11e8_9abc_8c8590bb111frow0_col1\" class=\"data row0 col1\" >17.06</td> \n",
       "        <td id=\"T_447b0890_54aa_11e8_9abc_8c8590bb111frow0_col2\" class=\"data row0 col2\" >5</td> \n",
       "    </tr>    <tr> \n",
       "        <th id=\"T_447b0890_54aa_11e8_9abc_8c8590bb111flevel0_row1\" class=\"row_heading level0 row1\" >Saedue76</th> \n",
       "        <td id=\"T_447b0890_54aa_11e8_9abc_8c8590bb111frow1_col0\" class=\"data row1 col0\" >3.39</td> \n",
       "        <td id=\"T_447b0890_54aa_11e8_9abc_8c8590bb111frow1_col1\" class=\"data row1 col1\" >13.56</td> \n",
       "        <td id=\"T_447b0890_54aa_11e8_9abc_8c8590bb111frow1_col2\" class=\"data row1 col2\" >4</td> \n",
       "    </tr>    <tr> \n",
       "        <th id=\"T_447b0890_54aa_11e8_9abc_8c8590bb111flevel0_row2\" class=\"row_heading level0 row2\" >Mindimnya67</th> \n",
       "        <td id=\"T_447b0890_54aa_11e8_9abc_8c8590bb111frow2_col0\" class=\"data row2 col0\" >3.185</td> \n",
       "        <td id=\"T_447b0890_54aa_11e8_9abc_8c8590bb111frow2_col1\" class=\"data row2 col1\" >12.74</td> \n",
       "        <td id=\"T_447b0890_54aa_11e8_9abc_8c8590bb111frow2_col2\" class=\"data row2 col2\" >4</td> \n",
       "    </tr>    <tr> \n",
       "        <th id=\"T_447b0890_54aa_11e8_9abc_8c8590bb111flevel0_row3\" class=\"row_heading level0 row3\" >Haellysu29</th> \n",
       "        <td id=\"T_447b0890_54aa_11e8_9abc_8c8590bb111frow3_col0\" class=\"data row3 col0\" >4.24333</td> \n",
       "        <td id=\"T_447b0890_54aa_11e8_9abc_8c8590bb111frow3_col1\" class=\"data row3 col1\" >12.73</td> \n",
       "        <td id=\"T_447b0890_54aa_11e8_9abc_8c8590bb111frow3_col2\" class=\"data row3 col2\" >3</td> \n",
       "    </tr>    <tr> \n",
       "        <th id=\"T_447b0890_54aa_11e8_9abc_8c8590bb111flevel0_row4\" class=\"row_heading level0 row4\" >Eoda93</th> \n",
       "        <td id=\"T_447b0890_54aa_11e8_9abc_8c8590bb111frow4_col0\" class=\"data row4 col0\" >3.86</td> \n",
       "        <td id=\"T_447b0890_54aa_11e8_9abc_8c8590bb111frow4_col1\" class=\"data row4 col1\" >11.58</td> \n",
       "        <td id=\"T_447b0890_54aa_11e8_9abc_8c8590bb111frow4_col2\" class=\"data row4 col2\" >3</td> \n",
       "    </tr></tbody> \n",
       "</table> "
      ],
      "text/plain": [
       "<pandas.io.formats.style.Styler at 0x10d76ec18>"
      ]
     },
     "execution_count": 128,
     "metadata": {},
     "output_type": "execute_result"
    }
   ],
   "source": [
    "sum_spenders.sort_values(('Price','sum'),ascending=False)[:5].style.set_properties(**{'background-color': 'white', 'color': 'black','border-color': 'white'})"
   ]
  },
  {
   "cell_type": "code",
   "execution_count": 94,
   "metadata": {},
   "outputs": [],
   "source": [
    "summ_items = pd.DataFrame(Heroes.groupby(['Item ID','Item Name']).agg({'Price':[np.mean,np.sum],'Item ID':'count'}))"
   ]
  },
  {
   "cell_type": "code",
   "execution_count": 95,
   "metadata": {},
   "outputs": [
    {
     "data": {
      "text/html": [
       "<style  type=\"text/css\" >\n",
       "    #T_35dc5c9a_5495_11e8_8786_8c8590bb111frow0_col0 {\n",
       "            background-color:  white;\n",
       "            color:  black;\n",
       "            border-color:  white;\n",
       "        }    #T_35dc5c9a_5495_11e8_8786_8c8590bb111frow0_col1 {\n",
       "            background-color:  white;\n",
       "            color:  black;\n",
       "            border-color:  white;\n",
       "        }    #T_35dc5c9a_5495_11e8_8786_8c8590bb111frow0_col2 {\n",
       "            background-color:  white;\n",
       "            color:  black;\n",
       "            border-color:  white;\n",
       "        }    #T_35dc5c9a_5495_11e8_8786_8c8590bb111frow1_col0 {\n",
       "            background-color:  white;\n",
       "            color:  black;\n",
       "            border-color:  white;\n",
       "        }    #T_35dc5c9a_5495_11e8_8786_8c8590bb111frow1_col1 {\n",
       "            background-color:  white;\n",
       "            color:  black;\n",
       "            border-color:  white;\n",
       "        }    #T_35dc5c9a_5495_11e8_8786_8c8590bb111frow1_col2 {\n",
       "            background-color:  white;\n",
       "            color:  black;\n",
       "            border-color:  white;\n",
       "        }    #T_35dc5c9a_5495_11e8_8786_8c8590bb111frow2_col0 {\n",
       "            background-color:  white;\n",
       "            color:  black;\n",
       "            border-color:  white;\n",
       "        }    #T_35dc5c9a_5495_11e8_8786_8c8590bb111frow2_col1 {\n",
       "            background-color:  white;\n",
       "            color:  black;\n",
       "            border-color:  white;\n",
       "        }    #T_35dc5c9a_5495_11e8_8786_8c8590bb111frow2_col2 {\n",
       "            background-color:  white;\n",
       "            color:  black;\n",
       "            border-color:  white;\n",
       "        }    #T_35dc5c9a_5495_11e8_8786_8c8590bb111frow3_col0 {\n",
       "            background-color:  white;\n",
       "            color:  black;\n",
       "            border-color:  white;\n",
       "        }    #T_35dc5c9a_5495_11e8_8786_8c8590bb111frow3_col1 {\n",
       "            background-color:  white;\n",
       "            color:  black;\n",
       "            border-color:  white;\n",
       "        }    #T_35dc5c9a_5495_11e8_8786_8c8590bb111frow3_col2 {\n",
       "            background-color:  white;\n",
       "            color:  black;\n",
       "            border-color:  white;\n",
       "        }    #T_35dc5c9a_5495_11e8_8786_8c8590bb111frow4_col0 {\n",
       "            background-color:  white;\n",
       "            color:  black;\n",
       "            border-color:  white;\n",
       "        }    #T_35dc5c9a_5495_11e8_8786_8c8590bb111frow4_col1 {\n",
       "            background-color:  white;\n",
       "            color:  black;\n",
       "            border-color:  white;\n",
       "        }    #T_35dc5c9a_5495_11e8_8786_8c8590bb111frow4_col2 {\n",
       "            background-color:  white;\n",
       "            color:  black;\n",
       "            border-color:  white;\n",
       "        }</style>  \n",
       "<table id=\"T_35dc5c9a_5495_11e8_8786_8c8590bb111f\" > \n",
       "<thead>    <tr> \n",
       "        <th class=\"blank\" ></th> \n",
       "        <th class=\"blank level0\" ></th> \n",
       "        <th class=\"col_heading level0 col0\" colspan=2>Price</th> \n",
       "        <th class=\"col_heading level0 col2\" >Item ID</th> \n",
       "    </tr>    <tr> \n",
       "        <th class=\"blank\" ></th> \n",
       "        <th class=\"blank level1\" ></th> \n",
       "        <th class=\"col_heading level1 col0\" >mean</th> \n",
       "        <th class=\"col_heading level1 col1\" >sum</th> \n",
       "        <th class=\"col_heading level1 col2\" >count</th> \n",
       "    </tr>    <tr> \n",
       "        <th class=\"index_name level0\" >Item ID</th> \n",
       "        <th class=\"index_name level1\" >Item Name</th> \n",
       "        <th class=\"blank\" ></th> \n",
       "        <th class=\"blank\" ></th> \n",
       "        <th class=\"blank\" ></th> \n",
       "    </tr></thead> \n",
       "<tbody>    <tr> \n",
       "        <th id=\"T_35dc5c9a_5495_11e8_8786_8c8590bb111flevel0_row0\" class=\"row_heading level0 row0\" >39</th> \n",
       "        <th id=\"T_35dc5c9a_5495_11e8_8786_8c8590bb111flevel1_row0\" class=\"row_heading level1 row0\" >Betrayal, Whisper of Grieving Widows</th> \n",
       "        <td id=\"T_35dc5c9a_5495_11e8_8786_8c8590bb111frow0_col0\" class=\"data row0 col0\" >2.35</td> \n",
       "        <td id=\"T_35dc5c9a_5495_11e8_8786_8c8590bb111frow0_col1\" class=\"data row0 col1\" >25.85</td> \n",
       "        <td id=\"T_35dc5c9a_5495_11e8_8786_8c8590bb111frow0_col2\" class=\"data row0 col2\" >11</td> \n",
       "    </tr>    <tr> \n",
       "        <th id=\"T_35dc5c9a_5495_11e8_8786_8c8590bb111flevel0_row1\" class=\"row_heading level0 row1\" >84</th> \n",
       "        <th id=\"T_35dc5c9a_5495_11e8_8786_8c8590bb111flevel1_row1\" class=\"row_heading level1 row1\" >Arcane Gem</th> \n",
       "        <td id=\"T_35dc5c9a_5495_11e8_8786_8c8590bb111frow1_col0\" class=\"data row1 col0\" >2.23</td> \n",
       "        <td id=\"T_35dc5c9a_5495_11e8_8786_8c8590bb111frow1_col1\" class=\"data row1 col1\" >24.53</td> \n",
       "        <td id=\"T_35dc5c9a_5495_11e8_8786_8c8590bb111frow1_col2\" class=\"data row1 col2\" >11</td> \n",
       "    </tr>    <tr> \n",
       "        <th id=\"T_35dc5c9a_5495_11e8_8786_8c8590bb111flevel0_row2\" class=\"row_heading level0 row2\" >31</th> \n",
       "        <th id=\"T_35dc5c9a_5495_11e8_8786_8c8590bb111flevel1_row2\" class=\"row_heading level1 row2\" >Trickster</th> \n",
       "        <td id=\"T_35dc5c9a_5495_11e8_8786_8c8590bb111frow2_col0\" class=\"data row2 col0\" >2.07</td> \n",
       "        <td id=\"T_35dc5c9a_5495_11e8_8786_8c8590bb111frow2_col1\" class=\"data row2 col1\" >18.63</td> \n",
       "        <td id=\"T_35dc5c9a_5495_11e8_8786_8c8590bb111frow2_col2\" class=\"data row2 col2\" >9</td> \n",
       "    </tr>    <tr> \n",
       "        <th id=\"T_35dc5c9a_5495_11e8_8786_8c8590bb111flevel0_row3\" class=\"row_heading level0 row3\" >175</th> \n",
       "        <th id=\"T_35dc5c9a_5495_11e8_8786_8c8590bb111flevel1_row3\" class=\"row_heading level1 row3\" >Woeful Adamantite Claymore</th> \n",
       "        <td id=\"T_35dc5c9a_5495_11e8_8786_8c8590bb111frow3_col0\" class=\"data row3 col0\" >1.24</td> \n",
       "        <td id=\"T_35dc5c9a_5495_11e8_8786_8c8590bb111frow3_col1\" class=\"data row3 col1\" >11.16</td> \n",
       "        <td id=\"T_35dc5c9a_5495_11e8_8786_8c8590bb111frow3_col2\" class=\"data row3 col2\" >9</td> \n",
       "    </tr>    <tr> \n",
       "        <th id=\"T_35dc5c9a_5495_11e8_8786_8c8590bb111flevel0_row4\" class=\"row_heading level0 row4\" >13</th> \n",
       "        <th id=\"T_35dc5c9a_5495_11e8_8786_8c8590bb111flevel1_row4\" class=\"row_heading level1 row4\" >Serenity</th> \n",
       "        <td id=\"T_35dc5c9a_5495_11e8_8786_8c8590bb111frow4_col0\" class=\"data row4 col0\" >1.49</td> \n",
       "        <td id=\"T_35dc5c9a_5495_11e8_8786_8c8590bb111frow4_col1\" class=\"data row4 col1\" >13.41</td> \n",
       "        <td id=\"T_35dc5c9a_5495_11e8_8786_8c8590bb111frow4_col2\" class=\"data row4 col2\" >9</td> \n",
       "    </tr></tbody> \n",
       "</table> "
      ],
      "text/plain": [
       "<pandas.io.formats.style.Styler at 0x10d764fd0>"
      ]
     },
     "execution_count": 95,
     "metadata": {},
     "output_type": "execute_result"
    }
   ],
   "source": [
    "sum_items.sort_values(('Item ID','count'),ascending=False)[0:5].style.set_properties(**{'background-color': 'white', 'color': 'black','border-color': 'white'})"
   ]
  },
  {
   "cell_type": "code",
   "execution_count": 129,
   "metadata": {},
   "outputs": [],
   "source": [
    "sum_items = pd.DataFrame(Heroes.groupby(['Item ID','Item Name']).agg({'Price':[np.mean,np.sum],'Item ID':'count'}))\n"
   ]
  },
  {
   "cell_type": "code",
   "execution_count": 130,
   "metadata": {},
   "outputs": [
    {
     "data": {
      "text/html": [
       "<style  type=\"text/css\" >\n",
       "    #T_5cf4965c_54aa_11e8_9b3d_8c8590bb111frow0_col0 {\n",
       "            background-color:  white;\n",
       "            color:  black;\n",
       "            border-color:  white;\n",
       "        }    #T_5cf4965c_54aa_11e8_9b3d_8c8590bb111frow0_col1 {\n",
       "            background-color:  white;\n",
       "            color:  black;\n",
       "            border-color:  white;\n",
       "        }    #T_5cf4965c_54aa_11e8_9b3d_8c8590bb111frow0_col2 {\n",
       "            background-color:  white;\n",
       "            color:  black;\n",
       "            border-color:  white;\n",
       "        }    #T_5cf4965c_54aa_11e8_9b3d_8c8590bb111frow1_col0 {\n",
       "            background-color:  white;\n",
       "            color:  black;\n",
       "            border-color:  white;\n",
       "        }    #T_5cf4965c_54aa_11e8_9b3d_8c8590bb111frow1_col1 {\n",
       "            background-color:  white;\n",
       "            color:  black;\n",
       "            border-color:  white;\n",
       "        }    #T_5cf4965c_54aa_11e8_9b3d_8c8590bb111frow1_col2 {\n",
       "            background-color:  white;\n",
       "            color:  black;\n",
       "            border-color:  white;\n",
       "        }    #T_5cf4965c_54aa_11e8_9b3d_8c8590bb111frow2_col0 {\n",
       "            background-color:  white;\n",
       "            color:  black;\n",
       "            border-color:  white;\n",
       "        }    #T_5cf4965c_54aa_11e8_9b3d_8c8590bb111frow2_col1 {\n",
       "            background-color:  white;\n",
       "            color:  black;\n",
       "            border-color:  white;\n",
       "        }    #T_5cf4965c_54aa_11e8_9b3d_8c8590bb111frow2_col2 {\n",
       "            background-color:  white;\n",
       "            color:  black;\n",
       "            border-color:  white;\n",
       "        }    #T_5cf4965c_54aa_11e8_9b3d_8c8590bb111frow3_col0 {\n",
       "            background-color:  white;\n",
       "            color:  black;\n",
       "            border-color:  white;\n",
       "        }    #T_5cf4965c_54aa_11e8_9b3d_8c8590bb111frow3_col1 {\n",
       "            background-color:  white;\n",
       "            color:  black;\n",
       "            border-color:  white;\n",
       "        }    #T_5cf4965c_54aa_11e8_9b3d_8c8590bb111frow3_col2 {\n",
       "            background-color:  white;\n",
       "            color:  black;\n",
       "            border-color:  white;\n",
       "        }    #T_5cf4965c_54aa_11e8_9b3d_8c8590bb111frow4_col0 {\n",
       "            background-color:  white;\n",
       "            color:  black;\n",
       "            border-color:  white;\n",
       "        }    #T_5cf4965c_54aa_11e8_9b3d_8c8590bb111frow4_col1 {\n",
       "            background-color:  white;\n",
       "            color:  black;\n",
       "            border-color:  white;\n",
       "        }    #T_5cf4965c_54aa_11e8_9b3d_8c8590bb111frow4_col2 {\n",
       "            background-color:  white;\n",
       "            color:  black;\n",
       "            border-color:  white;\n",
       "        }</style>  \n",
       "<table id=\"T_5cf4965c_54aa_11e8_9b3d_8c8590bb111f\" > \n",
       "<thead>    <tr> \n",
       "        <th class=\"blank\" ></th> \n",
       "        <th class=\"blank level0\" ></th> \n",
       "        <th class=\"col_heading level0 col0\" colspan=2>Price</th> \n",
       "        <th class=\"col_heading level0 col2\" >Item ID</th> \n",
       "    </tr>    <tr> \n",
       "        <th class=\"blank\" ></th> \n",
       "        <th class=\"blank level1\" ></th> \n",
       "        <th class=\"col_heading level1 col0\" >mean</th> \n",
       "        <th class=\"col_heading level1 col1\" >sum</th> \n",
       "        <th class=\"col_heading level1 col2\" >count</th> \n",
       "    </tr>    <tr> \n",
       "        <th class=\"index_name level0\" >Item ID</th> \n",
       "        <th class=\"index_name level1\" >Item Name</th> \n",
       "        <th class=\"blank\" ></th> \n",
       "        <th class=\"blank\" ></th> \n",
       "        <th class=\"blank\" ></th> \n",
       "    </tr></thead> \n",
       "<tbody>    <tr> \n",
       "        <th id=\"T_5cf4965c_54aa_11e8_9b3d_8c8590bb111flevel0_row0\" class=\"row_heading level0 row0\" >34</th> \n",
       "        <th id=\"T_5cf4965c_54aa_11e8_9b3d_8c8590bb111flevel1_row0\" class=\"row_heading level1 row0\" >Retribution Axe</th> \n",
       "        <td id=\"T_5cf4965c_54aa_11e8_9b3d_8c8590bb111frow0_col0\" class=\"data row0 col0\" >4.14</td> \n",
       "        <td id=\"T_5cf4965c_54aa_11e8_9b3d_8c8590bb111frow0_col1\" class=\"data row0 col1\" >37.26</td> \n",
       "        <td id=\"T_5cf4965c_54aa_11e8_9b3d_8c8590bb111frow0_col2\" class=\"data row0 col2\" >9</td> \n",
       "    </tr>    <tr> \n",
       "        <th id=\"T_5cf4965c_54aa_11e8_9b3d_8c8590bb111flevel0_row1\" class=\"row_heading level0 row1\" >115</th> \n",
       "        <th id=\"T_5cf4965c_54aa_11e8_9b3d_8c8590bb111flevel1_row1\" class=\"row_heading level1 row1\" >Spectral Diamond Doomblade</th> \n",
       "        <td id=\"T_5cf4965c_54aa_11e8_9b3d_8c8590bb111frow1_col0\" class=\"data row1 col0\" >4.25</td> \n",
       "        <td id=\"T_5cf4965c_54aa_11e8_9b3d_8c8590bb111frow1_col1\" class=\"data row1 col1\" >29.75</td> \n",
       "        <td id=\"T_5cf4965c_54aa_11e8_9b3d_8c8590bb111frow1_col2\" class=\"data row1 col2\" >7</td> \n",
       "    </tr>    <tr> \n",
       "        <th id=\"T_5cf4965c_54aa_11e8_9b3d_8c8590bb111flevel0_row2\" class=\"row_heading level0 row2\" >32</th> \n",
       "        <th id=\"T_5cf4965c_54aa_11e8_9b3d_8c8590bb111flevel1_row2\" class=\"row_heading level1 row2\" >Orenmir</th> \n",
       "        <td id=\"T_5cf4965c_54aa_11e8_9b3d_8c8590bb111frow2_col0\" class=\"data row2 col0\" >4.95</td> \n",
       "        <td id=\"T_5cf4965c_54aa_11e8_9b3d_8c8590bb111frow2_col1\" class=\"data row2 col1\" >29.7</td> \n",
       "        <td id=\"T_5cf4965c_54aa_11e8_9b3d_8c8590bb111frow2_col2\" class=\"data row2 col2\" >6</td> \n",
       "    </tr>    <tr> \n",
       "        <th id=\"T_5cf4965c_54aa_11e8_9b3d_8c8590bb111flevel0_row3\" class=\"row_heading level0 row3\" >103</th> \n",
       "        <th id=\"T_5cf4965c_54aa_11e8_9b3d_8c8590bb111flevel1_row3\" class=\"row_heading level1 row3\" >Singed Scalpel</th> \n",
       "        <td id=\"T_5cf4965c_54aa_11e8_9b3d_8c8590bb111frow3_col0\" class=\"data row3 col0\" >4.87</td> \n",
       "        <td id=\"T_5cf4965c_54aa_11e8_9b3d_8c8590bb111frow3_col1\" class=\"data row3 col1\" >29.22</td> \n",
       "        <td id=\"T_5cf4965c_54aa_11e8_9b3d_8c8590bb111frow3_col2\" class=\"data row3 col2\" >6</td> \n",
       "    </tr>    <tr> \n",
       "        <th id=\"T_5cf4965c_54aa_11e8_9b3d_8c8590bb111flevel0_row4\" class=\"row_heading level0 row4\" >107</th> \n",
       "        <th id=\"T_5cf4965c_54aa_11e8_9b3d_8c8590bb111flevel1_row4\" class=\"row_heading level1 row4\" >Splitter, Foe Of Subtlety</th> \n",
       "        <td id=\"T_5cf4965c_54aa_11e8_9b3d_8c8590bb111frow4_col0\" class=\"data row4 col0\" >3.61</td> \n",
       "        <td id=\"T_5cf4965c_54aa_11e8_9b3d_8c8590bb111frow4_col1\" class=\"data row4 col1\" >28.88</td> \n",
       "        <td id=\"T_5cf4965c_54aa_11e8_9b3d_8c8590bb111frow4_col2\" class=\"data row4 col2\" >8</td> \n",
       "    </tr></tbody> \n",
       "</table> "
      ],
      "text/plain": [
       "<pandas.io.formats.style.Styler at 0x10d76ba58>"
      ]
     },
     "execution_count": 130,
     "metadata": {},
     "output_type": "execute_result"
    }
   ],
   "source": [
    "sum_items.sort_values(('Price','sum'),ascending=False)[0:5].style.set_properties(**{'background-color': 'white', 'color': 'black','border-color': 'white'})"
   ]
  },
  {
   "cell_type": "code",
   "execution_count": 131,
   "metadata": {},
   "outputs": [],
   "source": [
    "#Observations\n",
    "#While more men made more purchases than women, the company could re-evaluate whether this is because women spend less, or (more likely) because the items offered for sale follow a trend that appeals more to men.  Maybe they could come up with new items (or new sellable game features) targeting these women players.\n",
    "\n",
    "# While it appears that the older consumers spend more money on the high value items, the company could come up with a strategy to take better advantage of this trend and see if they can boost this number towards a mean of $4 or higher.  I find it extremely likely that if they would spend $3 per item, these consumers would spend more if the options were available.\n",
    "\n",
    "# The primary demographic for the game is Male between the ages of 20 to 24, and they spend the most money as well."
   ]
  },
  {
   "cell_type": "code",
   "execution_count": null,
   "metadata": {},
   "outputs": [],
   "source": [
    "http://localhost:8888/notebooks/Desktop/notebooks/Heroes%20Final.ipynb"
   ]
  }
 ],
 "metadata": {
  "kernelspec": {
   "display_name": "Python [conda env:FirstEnv]",
   "language": "python",
   "name": "conda-env-FirstEnv-py"
  },
  "language_info": {
   "codemirror_mode": {
    "name": "ipython",
    "version": 3
   },
   "file_extension": ".py",
   "mimetype": "text/x-python",
   "name": "python",
   "nbconvert_exporter": "python",
   "pygments_lexer": "ipython3",
   "version": "3.6.4"
  }
 },
 "nbformat": 4,
 "nbformat_minor": 2
}
